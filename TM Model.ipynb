{
 "cells": [
  {
   "cell_type": "markdown",
   "id": "2816d79b-65d7-4a6c-8e99-c70d5b8eeeef",
   "metadata": {},
   "source": [
    "# Let's take on this challenge of new beinnings!"
   ]
  },
  {
   "cell_type": "markdown",
   "id": "04ee715c-90f5-48fd-9385-c79f8b0566b2",
   "metadata": {},
   "source": [
    "## Importing the Libraries"
   ]
  },
  {
   "cell_type": "code",
   "execution_count": 1,
   "id": "20765f22-ad51-4d49-baaa-376163e4c99d",
   "metadata": {},
   "outputs": [],
   "source": [
    "import numpy as np\n",
    "import matplotlib.pyplot as plt\n",
    "import pandas as pd\n",
    "from sklearn.cluster import KMeans\n",
    "from sklearn import metrics\n",
    "import pickle\n"
   ]
  },
  {
   "cell_type": "markdown",
   "id": "49853123-d7ad-4eaf-85d2-8188896b7722",
   "metadata": {},
   "source": [
    "## Now we add the dataset"
   ]
  },
  {
   "cell_type": "code",
   "execution_count": 2,
   "id": "ce7546ad-fa6a-4fd8-9e50-9e48e20ef897",
   "metadata": {},
   "outputs": [],
   "source": [
    "path = \"DataEdited.csv\""
   ]
  },
  {
   "cell_type": "code",
   "execution_count": 3,
   "id": "61078a6e-7733-4dec-9a4e-c16ba15ecdd1",
   "metadata": {},
   "outputs": [
    {
     "data": {
      "text/html": [
       "<div>\n",
       "<style scoped>\n",
       "    .dataframe tbody tr th:only-of-type {\n",
       "        vertical-align: middle;\n",
       "    }\n",
       "\n",
       "    .dataframe tbody tr th {\n",
       "        vertical-align: top;\n",
       "    }\n",
       "\n",
       "    .dataframe thead th {\n",
       "        text-align: right;\n",
       "    }\n",
       "</style>\n",
       "<table border=\"1\" class=\"dataframe\">\n",
       "  <thead>\n",
       "    <tr style=\"text-align: right;\">\n",
       "      <th></th>\n",
       "      <th>Test_age_T1</th>\n",
       "      <th>Body_height_cm_T1</th>\n",
       "      <th>Sitting_height_cm_T1</th>\n",
       "      <th>Arm_span_cm_T1</th>\n",
       "      <th>Arm_length_cm_T1</th>\n",
       "      <th>Leg_length_cm_T1</th>\n",
       "      <th>Chest_girth_cm_T1</th>\n",
       "      <th>Shoulder_width_cm_T1</th>\n",
       "      <th>Crista_width_cm_T1</th>\n",
       "      <th>Calf_girth_cm_T1</th>\n",
       "      <th>...</th>\n",
       "      <th>Ankle_circumference_cm_T1</th>\n",
       "      <th>Subscapular_angle_mm_T1</th>\n",
       "      <th>Abdomen_mm_T1</th>\n",
       "      <th>Upper_arm_mm_T1</th>\n",
       "      <th>Tendon_length_cm_T1</th>\n",
       "      <th>Body_weight_kg_T1</th>\n",
       "      <th>Eye_hand_reaction_time</th>\n",
       "      <th>Heart_rate_rest_bpm_T1</th>\n",
       "      <th>Vital_capacity_ml_T1</th>\n",
       "      <th>Sport</th>\n",
       "    </tr>\n",
       "  </thead>\n",
       "  <tbody>\n",
       "    <tr>\n",
       "      <th>0</th>\n",
       "      <td>172</td>\n",
       "      <td>181.8</td>\n",
       "      <td>91.8</td>\n",
       "      <td>184.0</td>\n",
       "      <td>78.4</td>\n",
       "      <td>97.3</td>\n",
       "      <td>79.2</td>\n",
       "      <td>36.2</td>\n",
       "      <td>27.7</td>\n",
       "      <td>33.0</td>\n",
       "      <td>...</td>\n",
       "      <td>20.8</td>\n",
       "      <td>5.0</td>\n",
       "      <td>9.5</td>\n",
       "      <td>10.0</td>\n",
       "      <td>28.8</td>\n",
       "      <td>57.1</td>\n",
       "      <td>202</td>\n",
       "      <td>69</td>\n",
       "      <td>4315</td>\n",
       "      <td>basketball</td>\n",
       "    </tr>\n",
       "    <tr>\n",
       "      <th>1</th>\n",
       "      <td>172</td>\n",
       "      <td>170.7</td>\n",
       "      <td>91.3</td>\n",
       "      <td>169.8</td>\n",
       "      <td>70.2</td>\n",
       "      <td>88.2</td>\n",
       "      <td>81.1</td>\n",
       "      <td>37.1</td>\n",
       "      <td>28.3</td>\n",
       "      <td>35.5</td>\n",
       "      <td>...</td>\n",
       "      <td>21.7</td>\n",
       "      <td>7.5</td>\n",
       "      <td>9.0</td>\n",
       "      <td>8.5</td>\n",
       "      <td>23.0</td>\n",
       "      <td>56.3</td>\n",
       "      <td>234</td>\n",
       "      <td>62</td>\n",
       "      <td>3555</td>\n",
       "      <td>basketball</td>\n",
       "    </tr>\n",
       "    <tr>\n",
       "      <th>2</th>\n",
       "      <td>178</td>\n",
       "      <td>183.0</td>\n",
       "      <td>94.1</td>\n",
       "      <td>181.4</td>\n",
       "      <td>76.8</td>\n",
       "      <td>95.8</td>\n",
       "      <td>80.0</td>\n",
       "      <td>39.4</td>\n",
       "      <td>28.2</td>\n",
       "      <td>34.8</td>\n",
       "      <td>...</td>\n",
       "      <td>21.6</td>\n",
       "      <td>6.0</td>\n",
       "      <td>7.0</td>\n",
       "      <td>8.5</td>\n",
       "      <td>24.2</td>\n",
       "      <td>58.9</td>\n",
       "      <td>233</td>\n",
       "      <td>76</td>\n",
       "      <td>4450</td>\n",
       "      <td>basketball</td>\n",
       "    </tr>\n",
       "    <tr>\n",
       "      <th>3</th>\n",
       "      <td>178</td>\n",
       "      <td>184.2</td>\n",
       "      <td>93.0</td>\n",
       "      <td>188.8</td>\n",
       "      <td>82.4</td>\n",
       "      <td>99.6</td>\n",
       "      <td>78.3</td>\n",
       "      <td>36.4</td>\n",
       "      <td>27.9</td>\n",
       "      <td>33.1</td>\n",
       "      <td>...</td>\n",
       "      <td>24.2</td>\n",
       "      <td>6.0</td>\n",
       "      <td>7.5</td>\n",
       "      <td>9.0</td>\n",
       "      <td>26.1</td>\n",
       "      <td>57.0</td>\n",
       "      <td>201</td>\n",
       "      <td>75</td>\n",
       "      <td>4045</td>\n",
       "      <td>basketball</td>\n",
       "    </tr>\n",
       "    <tr>\n",
       "      <th>4</th>\n",
       "      <td>184</td>\n",
       "      <td>184.7</td>\n",
       "      <td>96.6</td>\n",
       "      <td>183.5</td>\n",
       "      <td>78.7</td>\n",
       "      <td>97.0</td>\n",
       "      <td>91.8</td>\n",
       "      <td>37.7</td>\n",
       "      <td>26.8</td>\n",
       "      <td>34.6</td>\n",
       "      <td>...</td>\n",
       "      <td>21.0</td>\n",
       "      <td>5.5</td>\n",
       "      <td>8.0</td>\n",
       "      <td>10.0</td>\n",
       "      <td>24.9</td>\n",
       "      <td>63.1</td>\n",
       "      <td>190</td>\n",
       "      <td>60</td>\n",
       "      <td>4145</td>\n",
       "      <td>basketball</td>\n",
       "    </tr>\n",
       "  </tbody>\n",
       "</table>\n",
       "<p>5 rows × 23 columns</p>\n",
       "</div>"
      ],
      "text/plain": [
       "   Test_age_T1  Body_height_cm_T1  Sitting_height_cm_T1  Arm_span_cm_T1  \\\n",
       "0          172              181.8                  91.8           184.0   \n",
       "1          172              170.7                  91.3           169.8   \n",
       "2          178              183.0                  94.1           181.4   \n",
       "3          178              184.2                  93.0           188.8   \n",
       "4          184              184.7                  96.6           183.5   \n",
       "\n",
       "   Arm_length_cm_T1  Leg_length_cm_T1  Chest_girth_cm_T1  \\\n",
       "0              78.4              97.3               79.2   \n",
       "1              70.2              88.2               81.1   \n",
       "2              76.8              95.8               80.0   \n",
       "3              82.4              99.6               78.3   \n",
       "4              78.7              97.0               91.8   \n",
       "\n",
       "   Shoulder_width_cm_T1  Crista_width_cm_T1  Calf_girth_cm_T1  ...  \\\n",
       "0                  36.2                27.7              33.0  ...   \n",
       "1                  37.1                28.3              35.5  ...   \n",
       "2                  39.4                28.2              34.8  ...   \n",
       "3                  36.4                27.9              33.1  ...   \n",
       "4                  37.7                26.8              34.6  ...   \n",
       "\n",
       "   Ankle_circumference_cm_T1  Subscapular_angle_mm_T1  Abdomen_mm_T1  \\\n",
       "0                       20.8                      5.0            9.5   \n",
       "1                       21.7                      7.5            9.0   \n",
       "2                       21.6                      6.0            7.0   \n",
       "3                       24.2                      6.0            7.5   \n",
       "4                       21.0                      5.5            8.0   \n",
       "\n",
       "   Upper_arm_mm_T1  Tendon_length_cm_T1  Body_weight_kg_T1  \\\n",
       "0             10.0                 28.8               57.1   \n",
       "1              8.5                 23.0               56.3   \n",
       "2              8.5                 24.2               58.9   \n",
       "3              9.0                 26.1               57.0   \n",
       "4             10.0                 24.9               63.1   \n",
       "\n",
       "   Eye_hand_reaction_time  Heart_rate_rest_bpm_T1  Vital_capacity_ml_T1  \\\n",
       "0                     202                      69                  4315   \n",
       "1                     234                      62                  3555   \n",
       "2                     233                      76                  4450   \n",
       "3                     201                      75                  4045   \n",
       "4                     190                      60                  4145   \n",
       "\n",
       "        Sport  \n",
       "0  basketball  \n",
       "1  basketball  \n",
       "2  basketball  \n",
       "3  basketball  \n",
       "4  basketball  \n",
       "\n",
       "[5 rows x 23 columns]"
      ]
     },
     "execution_count": 3,
     "metadata": {},
     "output_type": "execute_result"
    }
   ],
   "source": [
    "dataset = pd.read_csv(path)\n",
    "dataset.head()"
   ]
  },
  {
   "cell_type": "code",
   "execution_count": null,
   "id": "5618683a-e343-42bf-b459-3533391523b1",
   "metadata": {},
   "outputs": [],
   "source": []
  },
  {
   "cell_type": "markdown",
   "id": "d7291afb-982a-47b5-b685-adc40da8635e",
   "metadata": {},
   "source": [
    "## Data Preprocessing"
   ]
  },
  {
   "cell_type": "code",
   "execution_count": 4,
   "id": "acf4a1c0-1ddf-4c8c-91e3-7e5b98d1a60f",
   "metadata": {},
   "outputs": [
    {
     "data": {
      "text/html": [
       "<div>\n",
       "<style scoped>\n",
       "    .dataframe tbody tr th:only-of-type {\n",
       "        vertical-align: middle;\n",
       "    }\n",
       "\n",
       "    .dataframe tbody tr th {\n",
       "        vertical-align: top;\n",
       "    }\n",
       "\n",
       "    .dataframe thead th {\n",
       "        text-align: right;\n",
       "    }\n",
       "</style>\n",
       "<table border=\"1\" class=\"dataframe\">\n",
       "  <thead>\n",
       "    <tr style=\"text-align: right;\">\n",
       "      <th></th>\n",
       "      <th>Test_age_T1</th>\n",
       "      <th>Body_height_cm_T1</th>\n",
       "      <th>Sitting_height_cm_T1</th>\n",
       "      <th>Arm_span_cm_T1</th>\n",
       "      <th>Arm_length_cm_T1</th>\n",
       "      <th>Leg_length_cm_T1</th>\n",
       "      <th>Chest_girth_cm_T1</th>\n",
       "      <th>Shoulder_width_cm_T1</th>\n",
       "      <th>Crista_width_cm_T1</th>\n",
       "      <th>Calf_girth_cm_T1</th>\n",
       "      <th>...</th>\n",
       "      <th>Ankle_circumference_cm_T1</th>\n",
       "      <th>Subscapular_angle_mm_T1</th>\n",
       "      <th>Abdomen_mm_T1</th>\n",
       "      <th>Upper_arm_mm_T1</th>\n",
       "      <th>Tendon_length_cm_T1</th>\n",
       "      <th>Body_weight_kg_T1</th>\n",
       "      <th>Eye_hand_reaction_time</th>\n",
       "      <th>Heart_rate_rest_bpm_T1</th>\n",
       "      <th>Vital_capacity_ml_T1</th>\n",
       "      <th>Sport</th>\n",
       "    </tr>\n",
       "  </thead>\n",
       "  <tbody>\n",
       "    <tr>\n",
       "      <th>0</th>\n",
       "      <td>172</td>\n",
       "      <td>181.8</td>\n",
       "      <td>91.8</td>\n",
       "      <td>184.0</td>\n",
       "      <td>78.4</td>\n",
       "      <td>97.3</td>\n",
       "      <td>79.2</td>\n",
       "      <td>36.2</td>\n",
       "      <td>27.7</td>\n",
       "      <td>33.0</td>\n",
       "      <td>...</td>\n",
       "      <td>20.8</td>\n",
       "      <td>5.0</td>\n",
       "      <td>9.5</td>\n",
       "      <td>10.0</td>\n",
       "      <td>28.8</td>\n",
       "      <td>57.1</td>\n",
       "      <td>202</td>\n",
       "      <td>69</td>\n",
       "      <td>4315</td>\n",
       "      <td>0</td>\n",
       "    </tr>\n",
       "    <tr>\n",
       "      <th>1</th>\n",
       "      <td>172</td>\n",
       "      <td>170.7</td>\n",
       "      <td>91.3</td>\n",
       "      <td>169.8</td>\n",
       "      <td>70.2</td>\n",
       "      <td>88.2</td>\n",
       "      <td>81.1</td>\n",
       "      <td>37.1</td>\n",
       "      <td>28.3</td>\n",
       "      <td>35.5</td>\n",
       "      <td>...</td>\n",
       "      <td>21.7</td>\n",
       "      <td>7.5</td>\n",
       "      <td>9.0</td>\n",
       "      <td>8.5</td>\n",
       "      <td>23.0</td>\n",
       "      <td>56.3</td>\n",
       "      <td>234</td>\n",
       "      <td>62</td>\n",
       "      <td>3555</td>\n",
       "      <td>0</td>\n",
       "    </tr>\n",
       "    <tr>\n",
       "      <th>2</th>\n",
       "      <td>178</td>\n",
       "      <td>183.0</td>\n",
       "      <td>94.1</td>\n",
       "      <td>181.4</td>\n",
       "      <td>76.8</td>\n",
       "      <td>95.8</td>\n",
       "      <td>80.0</td>\n",
       "      <td>39.4</td>\n",
       "      <td>28.2</td>\n",
       "      <td>34.8</td>\n",
       "      <td>...</td>\n",
       "      <td>21.6</td>\n",
       "      <td>6.0</td>\n",
       "      <td>7.0</td>\n",
       "      <td>8.5</td>\n",
       "      <td>24.2</td>\n",
       "      <td>58.9</td>\n",
       "      <td>233</td>\n",
       "      <td>76</td>\n",
       "      <td>4450</td>\n",
       "      <td>0</td>\n",
       "    </tr>\n",
       "    <tr>\n",
       "      <th>3</th>\n",
       "      <td>178</td>\n",
       "      <td>184.2</td>\n",
       "      <td>93.0</td>\n",
       "      <td>188.8</td>\n",
       "      <td>82.4</td>\n",
       "      <td>99.6</td>\n",
       "      <td>78.3</td>\n",
       "      <td>36.4</td>\n",
       "      <td>27.9</td>\n",
       "      <td>33.1</td>\n",
       "      <td>...</td>\n",
       "      <td>24.2</td>\n",
       "      <td>6.0</td>\n",
       "      <td>7.5</td>\n",
       "      <td>9.0</td>\n",
       "      <td>26.1</td>\n",
       "      <td>57.0</td>\n",
       "      <td>201</td>\n",
       "      <td>75</td>\n",
       "      <td>4045</td>\n",
       "      <td>0</td>\n",
       "    </tr>\n",
       "    <tr>\n",
       "      <th>4</th>\n",
       "      <td>184</td>\n",
       "      <td>184.7</td>\n",
       "      <td>96.6</td>\n",
       "      <td>183.5</td>\n",
       "      <td>78.7</td>\n",
       "      <td>97.0</td>\n",
       "      <td>91.8</td>\n",
       "      <td>37.7</td>\n",
       "      <td>26.8</td>\n",
       "      <td>34.6</td>\n",
       "      <td>...</td>\n",
       "      <td>21.0</td>\n",
       "      <td>5.5</td>\n",
       "      <td>8.0</td>\n",
       "      <td>10.0</td>\n",
       "      <td>24.9</td>\n",
       "      <td>63.1</td>\n",
       "      <td>190</td>\n",
       "      <td>60</td>\n",
       "      <td>4145</td>\n",
       "      <td>0</td>\n",
       "    </tr>\n",
       "  </tbody>\n",
       "</table>\n",
       "<p>5 rows × 23 columns</p>\n",
       "</div>"
      ],
      "text/plain": [
       "   Test_age_T1  Body_height_cm_T1  Sitting_height_cm_T1  Arm_span_cm_T1  \\\n",
       "0          172              181.8                  91.8           184.0   \n",
       "1          172              170.7                  91.3           169.8   \n",
       "2          178              183.0                  94.1           181.4   \n",
       "3          178              184.2                  93.0           188.8   \n",
       "4          184              184.7                  96.6           183.5   \n",
       "\n",
       "   Arm_length_cm_T1  Leg_length_cm_T1  Chest_girth_cm_T1  \\\n",
       "0              78.4              97.3               79.2   \n",
       "1              70.2              88.2               81.1   \n",
       "2              76.8              95.8               80.0   \n",
       "3              82.4              99.6               78.3   \n",
       "4              78.7              97.0               91.8   \n",
       "\n",
       "   Shoulder_width_cm_T1  Crista_width_cm_T1  Calf_girth_cm_T1  ...  \\\n",
       "0                  36.2                27.7              33.0  ...   \n",
       "1                  37.1                28.3              35.5  ...   \n",
       "2                  39.4                28.2              34.8  ...   \n",
       "3                  36.4                27.9              33.1  ...   \n",
       "4                  37.7                26.8              34.6  ...   \n",
       "\n",
       "   Ankle_circumference_cm_T1  Subscapular_angle_mm_T1  Abdomen_mm_T1  \\\n",
       "0                       20.8                      5.0            9.5   \n",
       "1                       21.7                      7.5            9.0   \n",
       "2                       21.6                      6.0            7.0   \n",
       "3                       24.2                      6.0            7.5   \n",
       "4                       21.0                      5.5            8.0   \n",
       "\n",
       "   Upper_arm_mm_T1  Tendon_length_cm_T1  Body_weight_kg_T1  \\\n",
       "0             10.0                 28.8               57.1   \n",
       "1              8.5                 23.0               56.3   \n",
       "2              8.5                 24.2               58.9   \n",
       "3              9.0                 26.1               57.0   \n",
       "4             10.0                 24.9               63.1   \n",
       "\n",
       "   Eye_hand_reaction_time  Heart_rate_rest_bpm_T1  Vital_capacity_ml_T1  Sport  \n",
       "0                     202                      69                  4315      0  \n",
       "1                     234                      62                  3555      0  \n",
       "2                     233                      76                  4450      0  \n",
       "3                     201                      75                  4045      0  \n",
       "4                     190                      60                  4145      0  \n",
       "\n",
       "[5 rows x 23 columns]"
      ]
     },
     "execution_count": 4,
     "metadata": {},
     "output_type": "execute_result"
    }
   ],
   "source": [
    "from sklearn.preprocessing import LabelEncoder\n",
    "from sklearn import utils\n",
    "le = LabelEncoder()\n",
    "dataset[\"Sport\"] = le.fit_transform(dataset[\"Sport\"])\n",
    "dataset.dtypes\n",
    "dataset.head()"
   ]
  },
  {
   "cell_type": "code",
   "execution_count": 6,
   "id": "e850c67a-5646-4fa3-ace8-5e8b5c606139",
   "metadata": {},
   "outputs": [
    {
     "name": "stdout",
     "output_type": "stream",
     "text": [
      "[[181.8  57.1  78.4  97.3  79.2]\n",
      " [170.7  56.3  70.2  88.2  81.1]\n",
      " [183.   58.9  76.8  95.8  80. ]\n",
      " [184.2  57.   82.4  99.6  78.3]\n",
      " [184.7  63.1  78.7  97.   91.8]\n",
      " [186.5  62.4  81.   99.5  79.5]\n",
      " [187.   60.7  79.3  97.3  81.5]\n",
      " [194.   78.1  85.  102.5  86.2]\n",
      " [168.1  50.9  69.5  90.4  75.3]\n",
      " [183.   61.2  78.2  94.8  77.2]\n",
      " [172.4  56.2  74.2  93.   75.5]\n",
      " [174.   54.3  76.4  88.8  77.8]\n",
      " [174.5  61.2  73.4  90.5  82.8]\n",
      " [170.5  61.   75.8  87.6  70. ]\n",
      " [183.   63.2  81.2  96.9  79.4]\n",
      " [175.5  60.9  72.6  93.3  80. ]\n",
      " [175.9  54.5  77.   89.7  77.6]\n",
      " [182.5  69.2  78.6  91.5  84. ]\n",
      " [175.   64.6  73.6  92.6  85.8]\n",
      " [171.1  58.6  76.5  88.7  81.3]\n",
      " [189.6  77.2  80.1  97.3  85. ]\n",
      " [184.3  63.7  81.3  95.6  79.4]\n",
      " [177.9  57.6  76.   91.6  76. ]\n",
      " [182.2  73.5  77.1  93.5  86.8]\n",
      " [176.   65.1  75.3  92.5  86.2]\n",
      " [173.6  63.6  77.1  88.6  82.5]\n",
      " [189.7  76.5  80.1  99.8  83.3]\n",
      " [184.6  66.3  78.4  94.8  81.9]\n",
      " [185.9  84.4  79.1  97.4  91.3]\n",
      " [172.   67.8  74.1  88.2  89.5]\n",
      " [179.   62.1  77.2  95.1  84.2]\n",
      " [176.1  67.3  77.5  88.9  87. ]\n",
      " [186.1  91.   78.9  96.5  97. ]\n",
      " [172.6  69.7  75.   90.5  93. ]\n",
      " [180.5  66.   79.7  94.6  88. ]\n",
      " [175.4  70.1  78.6  88.8  92.6]\n",
      " [161.5  55.   71.8  84.6  82. ]\n",
      " [185.8  90.4  81.   97.4 101. ]\n",
      " [184.   88.2  80.8  99.  100.5]\n",
      " [181.4  66.8  79.8  96.2  89.6]\n",
      " [176.4  69.9  78.8  89.6  90.6]\n",
      " [162.6  58.6  72.5  84.   85. ]\n",
      " [187.   84.3  78.8  96.6 102.6]\n",
      " [184.   91.1  82.2  98.5 105. ]\n",
      " [172.3  71.6  72.5  91.4  97.2]\n",
      " [182.1  68.7  80.1  96.4  90.5]\n",
      " [176.5  73.5  78.8  88.8  92.2]\n",
      " [192.6  87.8  86.2 111.2  96.3]\n",
      " [183.   67.3  83.8  92.8  89.4]\n",
      " [187.2  78.1  83.2  97.5  98. ]\n",
      " [168.4  58.1  77.1  96.2  87. ]\n",
      " [173.   58.2  76.2  88.8  86. ]\n",
      " [177.3  63.5  77.1  94.6  88. ]\n",
      " [174.   59.7  75.9  92.4  85.1]\n",
      " [176.   62.7  75.   91.5  89.2]\n",
      " [178.1  64.   77.6  90.1  90.7]\n",
      " [180.3  68.4  79.4  94.2  92.9]\n",
      " [167.1  61.   73.5  86.3  85.8]\n",
      " [166.6  49.3  73.   89.7  76.4]\n",
      " [164.5  49.7  73.   87.8  75.1]\n",
      " [174.   65.3  72.1  87.7  87.4]\n",
      " [168.2  60.   75.2  86.8  85.2]\n",
      " [171.   54.2  76.1  93.8  78.1]\n",
      " [174.   68.3  75.9  85.9  87. ]\n",
      " [171.3  61.4  74.7  88.   84.2]\n",
      " [170.   60.   74.7  85.   85.9]\n",
      " [175.   75.1  74.5  88.   91.8]\n",
      " [165.   54.5  73.6  83.6  84. ]\n",
      " [171.5  65.   75.1  89.8  86.8]\n",
      " [169.3  59.2  72.4  86.7  81. ]\n",
      " [176.5  75.   77.   91.5  92.8]\n",
      " [177.2  49.4  76.   93.7  77. ]\n",
      " [194.   97.3  85.3 101.2  95.2]\n",
      " [191.   66.7  85.8 102.6  84.3]\n",
      " [188.5  85.   80.   99.   93.7]\n",
      " [182.  102.   80.   99.3 105.2]\n",
      " [198.2 100.9  84.2 106.2 101.1]\n",
      " [193.   70.5  83.5  97.8  83.4]\n",
      " [191.4  72.3  83.3 100.1  83. ]\n",
      " [194.7  96.1  85.8 104.3  96.6]\n",
      " [193.   73.8  87.  104.8  86.6]\n",
      " [190.   89.7  81.5  97.7  92.6]\n",
      " [193.9  72.5  83.   98.9  90. ]\n",
      " [188.3  83.6  81.7  98.7  86. ]\n",
      " [193.1  75.1  82.4  99.5  89. ]\n",
      " [191.5  72.8  82.7  99.6  86.2]\n",
      " [195.7  89.   86.1 104.3  93.3]\n",
      " [195.3  74.6  86.3 103.6  85.3]\n",
      " [194.6  76.2  83.  100.   95.8]\n",
      " [190.6  87.5  85.1  98.8  91.8]\n",
      " [193.3  75.6  81.9  97.7  84.5]\n",
      " [192.2  77.6  81.3 100.2  88.5]\n",
      " [195.1  77.3  81.9 101.1  96.3]]\n"
     ]
    }
   ],
   "source": [
    "z = dataset.iloc[:, 18].values\n",
    "X = dataset.iloc[:, [1,18,4,5,6]].values\n",
    "y = dataset.iloc[:, 22].values\n",
    "print(X)"
   ]
  },
  {
   "cell_type": "code",
   "execution_count": 98,
   "id": "a8bd8654-46d5-435c-97bc-8792e7a15664",
   "metadata": {},
   "outputs": [],
   "source": [
    "from sklearn.model_selection import train_test_split\n",
    "X_train, X_test, y_train, y_test = train_test_split(X, y, test_size = 0.30, random_state = 15)"
   ]
  },
  {
   "cell_type": "markdown",
   "id": "ffff7caf-59c3-4180-b387-7e83a6755c8d",
   "metadata": {
    "tags": []
   },
   "source": [
    "## Data scaling"
   ]
  },
  {
   "cell_type": "code",
   "execution_count": 99,
   "id": "53571748-844a-4518-89d1-c81a05e00cd5",
   "metadata": {},
   "outputs": [],
   "source": [
    "#from sklearn.preprocessing import StandardScaler\n",
    "#scaler = StandardScaler()\n",
    "#scaler.fit(X_train)\n",
    "#X_train = scaler.transform(X_train)\n",
    "#X_test = scaler.transform(X_test)"
   ]
  },
  {
   "cell_type": "code",
   "execution_count": 100,
   "id": "4f4f33a7-d623-43a4-b05d-c0d1a6ef266f",
   "metadata": {},
   "outputs": [
    {
     "data": {
      "text/plain": [
       "KNeighborsClassifier(n_neighbors=7)"
      ]
     },
     "execution_count": 100,
     "metadata": {},
     "output_type": "execute_result"
    }
   ],
   "source": [
    "from sklearn.neighbors import KNeighborsClassifier\n",
    "classifier = KNeighborsClassifier(n_neighbors = 7)\n",
    "classifier.fit(X_train, y_train)"
   ]
  },
  {
   "cell_type": "markdown",
   "id": "b1c258bb-26c4-43b3-88c9-5317f2082b97",
   "metadata": {
    "tags": []
   },
   "source": [
    "# We start the prediction"
   ]
  },
  {
   "cell_type": "markdown",
   "id": "bda92b74-8998-4cdd-acef-0409d607fda2",
   "metadata": {},
   "source": [
    "### K-Means cluster (Under-development)"
   ]
  },
  {
   "cell_type": "code",
   "execution_count": 119,
   "id": "d3bc3fea-fd5e-4fbe-ae22-cf8caaa69c18",
   "metadata": {},
   "outputs": [
    {
     "name": "stdout",
     "output_type": "stream",
     "text": [
      "[[169.3  59.2  72.4  86.7  81. ]]\n"
     ]
    }
   ],
   "source": [
    "# fitting KMeans    \n",
    "kmeans = KMeans(n_clusters=3)\n",
    "kmeans.fit(dataset)\n",
    "example = [169.3,  59.2,  72.4,  86.7,  81. ]\n",
    "exampleNP = np.array(example)\n",
    "check = np.reshape(exampleNP, (-1,5))\n",
    "print(check)"
   ]
  },
  {
   "cell_type": "markdown",
   "id": "9a4303ad-0cd1-4832-a8de-a23d941d78df",
   "metadata": {},
   "source": [
    "### Decision Tree Classifier"
   ]
  },
  {
   "cell_type": "code",
   "execution_count": 120,
   "id": "a4b39a3d-f771-4a2d-9888-3dbcd369f49f",
   "metadata": {},
   "outputs": [
    {
     "name": "stdout",
     "output_type": "stream",
     "text": [
      "0.6071428571428571\n"
     ]
    }
   ],
   "source": [
    "from sklearn.tree import DecisionTreeClassifier\n",
    "from sklearn.metrics import confusion_matrix\n",
    "dtree_model = DecisionTreeClassifier(max_depth = 2).fit(X_train, y_train)\n",
    "dtree_predictions = dtree_model.predict(X_test)\n",
    "accuracy = dtree_model.score(X_test, y_test)\n",
    "print(accuracy)\n",
    "# creating a confusion matrix\n",
    "cm = confusion_matrix(y_test, dtree_predictions)"
   ]
  },
  {
   "cell_type": "markdown",
   "id": "9c546cee-08af-47f5-8ffc-16f3b43d3739",
   "metadata": {},
   "source": [
    "### SVM Classifier"
   ]
  },
  {
   "cell_type": "code",
   "execution_count": 126,
   "id": "9730ba1b-75a2-4758-ab4f-de1f198628e4",
   "metadata": {},
   "outputs": [
    {
     "name": "stdout",
     "output_type": "stream",
     "text": [
      "0.8214285714285714\n"
     ]
    }
   ],
   "source": [
    "from sklearn import datasets\n",
    "from sklearn.metrics import confusion_matrix\n",
    "from sklearn.model_selection import train_test_split\n",
    "\n",
    "# training a linear SVM classifier\n",
    "from sklearn.svm import SVC\n",
    "svm_model_linear = SVC(kernel = 'linear', C = 1).fit(X_train, y_train)\n",
    "svm_predictions = svm_model_linear.predict(X_test) \n",
    "# model accuracy for X_test  \n",
    "accuracy = svm_model_linear.score(X_test, y_test)\n",
    "print(accuracy)\n",
    "# creating a confusion matrix\n",
    "cm = confusion_matrix(y_test, svm_predictions)\n",
    "# save the model to disk\n",
    "filename = 'SVM82Model.sav'\n",
    "pickle.dump(LR_clf, open(filename, 'wb'))"
   ]
  },
  {
   "cell_type": "markdown",
   "id": "6213e6a3-7f91-4151-b78e-d17c9708cb9f",
   "metadata": {},
   "source": [
    "### KNN Classifier"
   ]
  },
  {
   "cell_type": "code",
   "execution_count": 106,
   "id": "aa7f5670-d666-429d-a621-ec357783946e",
   "metadata": {},
   "outputs": [
    {
     "name": "stdout",
     "output_type": "stream",
     "text": [
      "0.5357142857142857\n"
     ]
    }
   ],
   "source": [
    "# training a KNN classifier\n",
    "from sklearn.neighbors import KNeighborsClassifier\n",
    "knn = KNeighborsClassifier(n_neighbors = 7).fit(X_train, y_train)\n",
    "  \n",
    "# accuracy on X_test\n",
    "accuracy = knn.score(X_test, y_test)\n",
    "print (accuracy)\n",
    "  \n",
    "# creating a confusion matrix\n",
    "knn_predictions = knn.predict(X_test) \n",
    "cm = confusion_matrix(y_test, knn_predictions)\n"
   ]
  },
  {
   "cell_type": "markdown",
   "id": "2afcd316-3e89-43a9-90e5-eeb0baa84113",
   "metadata": {},
   "source": [
    "### Logistic Regression"
   ]
  },
  {
   "cell_type": "code",
   "execution_count": 123,
   "id": "57364ce3-ff44-4cec-8d80-48bd2abd3475",
   "metadata": {},
   "outputs": [
    {
     "name": "stdout",
     "output_type": "stream",
     "text": [
      "Logistic Regression Accuracy: 0.50 %\n"
     ]
    },
    {
     "name": "stderr",
     "output_type": "stream",
     "text": [
      "C:\\ProgramData\\Anaconda3\\lib\\site-packages\\sklearn\\linear_model\\_logistic.py:763: ConvergenceWarning: lbfgs failed to converge (status=1):\n",
      "STOP: TOTAL NO. of ITERATIONS REACHED LIMIT.\n",
      "\n",
      "Increase the number of iterations (max_iter) or scale the data as shown in:\n",
      "    https://scikit-learn.org/stable/modules/preprocessing.html\n",
      "Please also refer to the documentation for alternative solver options:\n",
      "    https://scikit-learn.org/stable/modules/linear_model.html#logistic-regression\n",
      "  n_iter_i = _check_optimize_result(\n"
     ]
    }
   ],
   "source": [
    "from sklearn.linear_model import LogisticRegression\n",
    "from sklearn.metrics import accuracy_score, confusion_matrix, classification_report\n",
    "#  Train the model\n",
    "LR_clf = LogisticRegression().fit(X_train, y_train)\n",
    "#  Let's test it Talentmine model!!\n",
    "LR_prediction = LR_clf.predict(X_test)\n",
    "# Now compare between predicted sports and actual athletes\n",
    "LR_accuracy = accuracy_score(y_test, LR_prediction)\n",
    "# Accuracy | الضبط \n",
    "print(f'Logistic Regression Accuracy: {LR_accuracy:.2f} %')\n"
   ]
  },
  {
   "cell_type": "markdown",
   "id": "9a4f069e-986c-45e1-939b-09d315e4780d",
   "metadata": {},
   "source": [
    "### Naive Bayes"
   ]
  },
  {
   "cell_type": "code",
   "execution_count": 124,
   "id": "2791066e-f260-46b7-84d0-a336f48b2c5d",
   "metadata": {},
   "outputs": [
    {
     "name": "stdout",
     "output_type": "stream",
     "text": [
      "0.5357142857142857\n"
     ]
    }
   ],
   "source": [
    "\n",
    "# training a Naive Bayes classifier\n",
    "from sklearn.naive_bayes import GaussianNB\n",
    "gnb = GaussianNB().fit(X_train, y_train)\n",
    "gnb_predictions = gnb.predict(X_test)\n",
    "  \n",
    "# accuracy on X_test\n",
    "accuracy = gnb.score(X_test, y_test)\n",
    "print (accuracy)\n",
    "  \n",
    "# creating a confusion matrix\n",
    "cm = confusion_matrix(y_test, gnb_predictions)"
   ]
  },
  {
   "cell_type": "code",
   "execution_count": 131,
   "id": "a8618a21-cab4-42bc-a574-69d096161e58",
   "metadata": {},
   "outputs": [
    {
     "data": {
      "text/plain": [
       "array([4])"
      ]
     },
     "execution_count": 131,
     "metadata": {},
     "output_type": "execute_result"
    }
   ],
   "source": [
    "# load the model from disk\n",
    "filename = 'SVM82Model.sav'\n",
    "loaded_model = pickle.load(open(filename, 'rb'))\n",
    "loaded_model.predict(check)"
   ]
  },
  {
   "cell_type": "code",
   "execution_count": null,
   "id": "60fa4129-0a71-45ab-ba6a-327c4ac93fbf",
   "metadata": {},
   "outputs": [],
   "source": []
  }
 ],
 "metadata": {
  "kernelspec": {
   "display_name": "Python 3 (ipykernel)",
   "language": "python",
   "name": "python3"
  },
  "language_info": {
   "codemirror_mode": {
    "name": "ipython",
    "version": 3
   },
   "file_extension": ".py",
   "mimetype": "text/x-python",
   "name": "python",
   "nbconvert_exporter": "python",
   "pygments_lexer": "ipython3",
   "version": "3.9.7"
  }
 },
 "nbformat": 4,
 "nbformat_minor": 5
}
